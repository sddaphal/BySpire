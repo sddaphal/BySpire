{
  "nbformat": 4,
  "nbformat_minor": 0,
  "metadata": {
    "colab": {
      "name": "disease_classification.ipynb",
      "provenance": [],
      "collapsed_sections": [],
      "mount_file_id": "1EcwtWsfMt5HYQSZAjf7I1x3JqsFNhVqw",
      "authorship_tag": "ABX9TyN6/LW69qVlly9ZGp6YJ32K",
      "include_colab_link": true
    },
    "kernelspec": {
      "display_name": "Python 3",
      "name": "python3"
    },
    "accelerator": "GPU"
  },
  "cells": [
    {
      "cell_type": "markdown",
      "metadata": {
        "id": "view-in-github",
        "colab_type": "text"
      },
      "source": [
        "<a href=\"https://colab.research.google.com/github/sddaphal/BySpire/blob/master/disease_classification.ipynb\" target=\"_parent\"><img src=\"https://colab.research.google.com/assets/colab-badge.svg\" alt=\"Open In Colab\"/></a>"
      ]
    },
    {
      "cell_type": "code",
      "metadata": {
        "colab": {
          "base_uri": "https://localhost:8080/"
        },
        "id": "wawYP5_HbEji",
        "outputId": "d7d2edf2-1342-49c7-ace6-376a0fcda1c4"
      },
      "source": [
        "!pip install split_folders  "
      ],
      "execution_count": null,
      "outputs": [
        {
          "output_type": "stream",
          "text": [
            "Collecting split_folders\n",
            "  Downloading https://files.pythonhosted.org/packages/b8/5f/3c2b2f7ea5e047c8cdc3bb00ae582c5438fcdbbedcc23b3cc1c2c7aae642/split_folders-0.4.3-py3-none-any.whl\n",
            "Installing collected packages: split-folders\n",
            "Successfully installed split-folders-0.4.3\n"
          ],
          "name": "stdout"
        }
      ]
    },
    {
      "cell_type": "code",
      "metadata": {
        "id": "arAHUDYxcfcf"
      },
      "source": [
        "import splitfolders\r\n",
        "input_folder='/content/drive/MyDrive/DRC02/sugarcane-dataset'\r\n",
        "output='/content/drive/MyDrive/DRC02/Processed_dataset'\r\n",
        "splitfolders.ratio(input_folder, output, seed='1337',ratio=(0.8,0.1,0.1))\r\n"
      ],
      "execution_count": null,
      "outputs": []
    },
    {
      "cell_type": "code",
      "metadata": {
        "colab": {
          "base_uri": "https://localhost:8080/"
        },
        "id": "sLoo-pNBemK-",
        "outputId": "ac26dbd8-62ed-4aee-c221-1f4c7e345766"
      },
      "source": [
        "help(splitfolders.ratio)"
      ],
      "execution_count": null,
      "outputs": [
        {
          "output_type": "stream",
          "text": [
            "Help on function ratio in module splitfolders.split:\n",
            "\n",
            "ratio(input, output='output', seed=1337, ratio=(0.8, 0.1, 0.1), group_prefix=None)\n",
            "\n"
          ],
          "name": "stdout"
        }
      ]
    },
    {
      "cell_type": "code",
      "metadata": {
        "id": "AYp_GuHulxbE"
      },
      "source": [
        "import pandas as pd\r\n",
        "import cv2 as cv\r\n",
        "import numpy as np\r\n",
        "import matplotlib.pyplot as plt\r\n",
        "import os\r\n",
        "import seaborn as sns"
      ],
      "execution_count": null,
      "outputs": []
    },
    {
      "cell_type": "code",
      "metadata": {
        "id": "3SbNhNyvRalH"
      },
      "source": [
        "DATASET=\"/content/drive/MyDrive/DRC02/Processed_dataset/train\"\r\n",
        "DATASET2=\"/content/drive/MyDrive/DRC02/Processed_dataset/val\"\r\n",
        "\r\n",
        "CATEGORIES=[\"cercospora-leafspot\",\"healthy\", \"helmanthospura-leafspot\",\"redrot\",\"rust\", \"yellow-leaf-disease\"]        \r\n"
      ],
      "execution_count": null,
      "outputs": []
    },
    {
      "cell_type": "code",
      "metadata": {
        "colab": {
          "base_uri": "https://localhost:8080/"
        },
        "id": "1mUHsjRU4aD6",
        "outputId": "e25541a4-c704-406f-b59d-4b0cb24dc33c"
      },
      "source": [
        "train_data=[]\r\n",
        "\r\n",
        "for category in CATEGORIES:\r\n",
        "        label=CATEGORIES.index(category)\r\n",
        "        path=os.path.join(DATASET,category)\r\n",
        "        for img_file in os.listdir(path):\r\n",
        "            img=cv.imread(os.path.join(path,img_file),1)\r\n",
        "            img=cv.cvtColor(img,cv.COLOR_BGR2RGB)\r\n",
        "            img=cv.resize(img,(64,64))            \r\n",
        "            train_data.append([img,label])\r\n",
        "          \r\n",
        "test_data=[]\r\n",
        "\r\n",
        "for category in CATEGORIES:\r\n",
        "        label=CATEGORIES.index(category)\r\n",
        "        path=os.path.join(DATASET2,category)\r\n",
        "        for img_file in os.listdir(path):\r\n",
        "            img=cv.imread(os.path.join(path,img_file),1)\r\n",
        "            img=cv.cvtColor(img,cv.COLOR_BGR2RGB)\r\n",
        "            img=cv.resize(img,(64,64))\r\n",
        "            test_data.append([img,label])\r\n",
        "            \r\n",
        "print(len(train_data))\r\n",
        "print(len(test_data))            "
      ],
      "execution_count": null,
      "outputs": [
        {
          "output_type": "stream",
          "text": [
            "1174\n",
            "145\n"
          ],
          "name": "stdout"
        }
      ]
    },
    {
      "cell_type": "code",
      "metadata": {
        "colab": {
          "base_uri": "https://localhost:8080/"
        },
        "id": "gIA4CgDV12M5",
        "outputId": "4f623cd7-9d11-4b3e-a305-4e66526e8b09"
      },
      "source": [
        "import random\r\n",
        "\r\n",
        "random.shuffle(train_data)\r\n",
        "random.shuffle(test_data)\r\n",
        "for lbl in train_data[:6]:\r\n",
        "    print(lbl[1])"
      ],
      "execution_count": null,
      "outputs": [
        {
          "output_type": "stream",
          "text": [
            "3\n",
            "0\n",
            "5\n",
            "5\n",
            "1\n",
            "4\n"
          ],
          "name": "stdout"
        }
      ]
    },
    {
      "cell_type": "code",
      "metadata": {
        "colab": {
          "base_uri": "https://localhost:8080/"
        },
        "id": "idX-2t6p2LV7",
        "outputId": "87602cb3-5ee1-4520-e08b-ae3f962063ce"
      },
      "source": [
        "X_train=[]\r\n",
        "y_train=[]\r\n",
        "\r\n",
        "for features,label in train_data:\r\n",
        "    X_train.append(features)\r\n",
        "    y_train.append(label)\r\n",
        "\r\n",
        "Y=[]\r\n",
        "for i in y_train:\r\n",
        "    if i==0:\r\n",
        "        Y.append(\"cercospora-leafspot\")\r\n",
        "    elif i==1:\r\n",
        "        Y.append(\"healthy\")\r\n",
        "    elif i==2:\r\n",
        "        Y.append(\"helmanthospura-leafspot\")\r\n",
        "    elif i==3:\r\n",
        "        Y.append(\"redrot\")\r\n",
        "    elif i==4:\r\n",
        "        Y.append(\"rust\")\r\n",
        "    else:\r\n",
        "        Y.append(\"yellow-leaf-disease\")\r\n",
        "\r\n",
        "len(X_train),len(y_train)\r\n",
        "\r\n"
      ],
      "execution_count": null,
      "outputs": [
        {
          "output_type": "execute_result",
          "data": {
            "text/plain": [
              "(1174, 1174)"
            ]
          },
          "metadata": {
            "tags": []
          },
          "execution_count": 21
        }
      ]
    },
    {
      "cell_type": "code",
      "metadata": {
        "colab": {
          "base_uri": "https://localhost:8080/"
        },
        "id": "VakEV0_i2a0Y",
        "outputId": "d7a6e128-2784-4527-8c85-73b257f540af"
      },
      "source": [
        "X_test=[]\r\n",
        "y_test=[]\r\n",
        "for features,label in test_data:\r\n",
        "    X_test.append(features)\r\n",
        "    y_test.append(label)\r\n",
        "    \r\n",
        "Z=[]\r\n",
        "for i in y_test:\r\n",
        "    if i==0:\r\n",
        "        Z.append(\"cercospora-leafspot\")\r\n",
        "    elif i==1:\r\n",
        "        Z.append(\"healthy\")\r\n",
        "    elif i==2:\r\n",
        "        Z.append(\"helmanthospura-leafspot\")\r\n",
        "    elif i==3:\r\n",
        "        Z.append(\"redrot\")\r\n",
        "    elif i==4:\r\n",
        "        Z.append(\"rust\")\r\n",
        "    else:\r\n",
        "        Z.append(\"yellow-leaf-disease\")\r\n",
        "\r\n",
        "len(X_test),len(y_test)"
      ],
      "execution_count": null,
      "outputs": [
        {
          "output_type": "execute_result",
          "data": {
            "text/plain": [
              "(145, 145)"
            ]
          },
          "metadata": {
            "tags": []
          },
          "execution_count": 22
        }
      ]
    },
    {
      "cell_type": "code",
      "metadata": {
        "colab": {
          "base_uri": "https://localhost:8080/"
        },
        "id": "PJbyXewr2eDN",
        "outputId": "c54c341c-e0ba-4a2d-f11c-c6d4fc1f0615"
      },
      "source": [
        "X_train=np.array(X_train).reshape(-1,64,64,3)\r\n",
        "X_train=X_train/255.0\r\n",
        "X_train.shape"
      ],
      "execution_count": null,
      "outputs": [
        {
          "output_type": "execute_result",
          "data": {
            "text/plain": [
              "(1174, 64, 64, 3)"
            ]
          },
          "metadata": {
            "tags": []
          },
          "execution_count": 23
        }
      ]
    },
    {
      "cell_type": "code",
      "metadata": {
        "colab": {
          "base_uri": "https://localhost:8080/"
        },
        "id": "gYW1E-57DFrW",
        "outputId": "a42398a3-f371-4089-eae9-01b8a1a84afc"
      },
      "source": [
        "X_test=np.array(X_test).reshape(-1,64,64,3)\r\n",
        "X_test=X_test/255.0\r\n",
        "X_test.shape"
      ],
      "execution_count": null,
      "outputs": [
        {
          "output_type": "execute_result",
          "data": {
            "text/plain": [
              "(145, 64, 64, 3)"
            ]
          },
          "metadata": {
            "tags": []
          },
          "execution_count": 24
        }
      ]
    },
    {
      "cell_type": "code",
      "metadata": {
        "colab": {
          "base_uri": "https://localhost:8080/",
          "height": 426
        },
        "id": "BNT1yD7c2hXp",
        "outputId": "e451e6aa-a1ad-40cc-a474-6a63b3617538"
      },
      "source": [
        "order=['cercospora-leafspot','healthy','helmanthospura-leafspot','redrot','rust', 'yellow-leaf-disease']\r\n",
        "ax=sns.countplot(Y, order=order)\r\n",
        "ax.set_xlabel(\"Leaf Diseases\")\r\n",
        "ax.set_xticklabels(ax.get_xticklabels(), rotation=40, ha='right')\r\n",
        "ax.set_ylabel(\"Image Count\")\r\n"
      ],
      "execution_count": null,
      "outputs": [
        {
          "output_type": "stream",
          "text": [
            "/usr/local/lib/python3.6/dist-packages/seaborn/_decorators.py:43: FutureWarning: Pass the following variable as a keyword arg: x. From version 0.12, the only valid positional argument will be `data`, and passing other arguments without an explicit keyword will result in an error or misinterpretation.\n",
            "  FutureWarning\n"
          ],
          "name": "stderr"
        },
        {
          "output_type": "execute_result",
          "data": {
            "text/plain": [
              "Text(0, 0.5, 'Image Count')"
            ]
          },
          "metadata": {
            "tags": []
          },
          "execution_count": 25
        },
        {
          "output_type": "display_data",
          "data": {
            "image/png": "[encoded data removed]",
            "text/plain": [
              "<Figure size 432x288 with 1 Axes>"
            ]
          },
          "metadata": {
            "tags": [],
            "needs_background": "light"
          }
        }
      ]
    },
    {
      "cell_type": "code",
      "metadata": {
        "colab": {
          "base_uri": "https://localhost:8080/",
          "height": 426
        },
        "id": "RR89EQEi4Vui",
        "outputId": "761edf28-11db-463a-8dff-a6f1ee21a3a7"
      },
      "source": [
        "ax=sns.countplot(Z, order=order)\r\n",
        "ax.set_xlabel(\"Leaf Diseases\")\r\n",
        "ax.set_xticklabels(ax.get_xticklabels(), rotation=40, ha='right')\r\n",
        "ax.set_ylabel(\"Image Count\")"
      ],
      "execution_count": null,
      "outputs": [
        {
          "output_type": "stream",
          "text": [
            "/usr/local/lib/python3.6/dist-packages/seaborn/_decorators.py:43: FutureWarning: Pass the following variable as a keyword arg: x. From version 0.12, the only valid positional argument will be `data`, and passing other arguments without an explicit keyword will result in an error or misinterpretation.\n",
            "  FutureWarning\n"
          ],
          "name": "stderr"
        },
        {
          "output_type": "execute_result",
          "data": {
            "text/plain": [
              "Text(0, 0.5, 'Image Count')"
            ]
          },
          "metadata": {
            "tags": []
          },
          "execution_count": 26
        },
        {
          "output_type": "display_data",
          "data": {
            "image/png": "[encoded data removed]",
            "text/plain": [
              "<Figure size 432x288 with 1 Axes>"
            ]
          },
          "metadata": {
            "tags": [],
            "needs_background": "light"
          }
        }
      ]
    },
    {
      "cell_type": "code",
      "metadata": {
        "id": "dOGnyI0ADP9b"
      },
      "source": [
        "from keras.utils import to_categorical"
      ],
      "execution_count": null,
      "outputs": []
    },
    {
      "cell_type": "code",
      "metadata": {
        "colab": {
          "base_uri": "https://localhost:8080/"
        },
        "id": "DweN0Bop5FoX",
        "outputId": "86d46c91-da93-4a96-e4e9-7c3192df721f"
      },
      "source": [
        "one_hot_train=to_categorical(y_train,6)\r\n",
        "one_hot_train\r\n"
      ],
      "execution_count": null,
      "outputs": [
        {
          "output_type": "execute_result",
          "data": {
            "text/plain": [
              "array([[0., 0., 0., 1., 0., 0.],\n",
              "       [1., 0., 0., 0., 0., 0.],\n",
              "       [0., 0., 0., 0., 0., 1.],\n",
              "       ...,\n",
              "       [0., 0., 0., 0., 0., 1.],\n",
              "       [0., 0., 1., 0., 0., 0.],\n",
              "       [0., 0., 0., 0., 0., 1.]], dtype=float32)"
            ]
          },
          "metadata": {
            "tags": []
          },
          "execution_count": 28
        }
      ]
    },
    {
      "cell_type": "code",
      "metadata": {
        "colab": {
          "base_uri": "https://localhost:8080/"
        },
        "id": "ik_wUEmW5HcP",
        "outputId": "0ccceb16-cfbc-4bed-de7b-e1050643eb13"
      },
      "source": [
        "one_hot_test=to_categorical(y_test,6)\r\n",
        "one_hot_test"
      ],
      "execution_count": null,
      "outputs": [
        {
          "output_type": "execute_result",
          "data": {
            "text/plain": [
              "array([[0., 1., 0., 0., 0., 0.],\n",
              "       [0., 0., 0., 0., 1., 0.],\n",
              "       [0., 0., 0., 1., 0., 0.],\n",
              "       [0., 0., 0., 1., 0., 0.],\n",
              "       [0., 0., 0., 0., 1., 0.],\n",
              "       [0., 0., 0., 1., 0., 0.],\n",
              "       [0., 0., 0., 0., 1., 0.],\n",
              "       [0., 0., 0., 1., 0., 0.],\n",
              "       [0., 1., 0., 0., 0., 0.],\n",
              "       [0., 0., 0., 0., 1., 0.],\n",
              "       [1., 0., 0., 0., 0., 0.],\n",
              "       [0., 0., 1., 0., 0., 0.],\n",
              "       [0., 1., 0., 0., 0., 0.],\n",
              "       [0., 0., 1., 0., 0., 0.],\n",
              "       [0., 0., 1., 0., 0., 0.],\n",
              "       [0., 0., 0., 1., 0., 0.],\n",
              "       [0., 1., 0., 0., 0., 0.],\n",
              "       [0., 0., 1., 0., 0., 0.],\n",
              "       [0., 0., 1., 0., 0., 0.],\n",
              "       [0., 0., 0., 1., 0., 0.],\n",
              "       [0., 0., 0., 1., 0., 0.],\n",
              "       [0., 0., 0., 0., 0., 1.],\n",
              "       [0., 0., 0., 0., 0., 1.],\n",
              "       [1., 0., 0., 0., 0., 0.],\n",
              "       [0., 1., 0., 0., 0., 0.],\n",
              "       [0., 0., 0., 1., 0., 0.],\n",
              "       [0., 0., 0., 0., 1., 0.],\n",
              "       [0., 1., 0., 0., 0., 0.],\n",
              "       [0., 0., 0., 0., 0., 1.],\n",
              "       [0., 1., 0., 0., 0., 0.],\n",
              "       [0., 1., 0., 0., 0., 0.],\n",
              "       [0., 1., 0., 0., 0., 0.],\n",
              "       [0., 1., 0., 0., 0., 0.],\n",
              "       [0., 1., 0., 0., 0., 0.],\n",
              "       [1., 0., 0., 0., 0., 0.],\n",
              "       [0., 1., 0., 0., 0., 0.],\n",
              "       [0., 0., 1., 0., 0., 0.],\n",
              "       [0., 0., 0., 0., 1., 0.],\n",
              "       [1., 0., 0., 0., 0., 0.],\n",
              "       [0., 1., 0., 0., 0., 0.],\n",
              "       [0., 1., 0., 0., 0., 0.],\n",
              "       [0., 1., 0., 0., 0., 0.],\n",
              "       [1., 0., 0., 0., 0., 0.],\n",
              "       [0., 1., 0., 0., 0., 0.],\n",
              "       [1., 0., 0., 0., 0., 0.],\n",
              "       [0., 0., 0., 0., 0., 1.],\n",
              "       [0., 1., 0., 0., 0., 0.],\n",
              "       [0., 0., 0., 0., 1., 0.],\n",
              "       [0., 0., 0., 0., 0., 1.],\n",
              "       [0., 0., 0., 0., 0., 1.],\n",
              "       [1., 0., 0., 0., 0., 0.],\n",
              "       [0., 0., 1., 0., 0., 0.],\n",
              "       [1., 0., 0., 0., 0., 0.],\n",
              "       [0., 0., 0., 1., 0., 0.],\n",
              "       [0., 0., 0., 0., 1., 0.],\n",
              "       [0., 1., 0., 0., 0., 0.],\n",
              "       [0., 1., 0., 0., 0., 0.],\n",
              "       [0., 1., 0., 0., 0., 0.],\n",
              "       [0., 0., 0., 0., 0., 1.],\n",
              "       [0., 1., 0., 0., 0., 0.],\n",
              "       [0., 0., 0., 0., 1., 0.],\n",
              "       [0., 1., 0., 0., 0., 0.],\n",
              "       [0., 0., 0., 1., 0., 0.],\n",
              "       [0., 0., 0., 0., 1., 0.],\n",
              "       [0., 0., 0., 1., 0., 0.],\n",
              "       [0., 1., 0., 0., 0., 0.],\n",
              "       [0., 0., 0., 0., 0., 1.],\n",
              "       [0., 0., 0., 0., 0., 1.],\n",
              "       [1., 0., 0., 0., 0., 0.],\n",
              "       [0., 0., 1., 0., 0., 0.],\n",
              "       [0., 0., 0., 0., 1., 0.],\n",
              "       [0., 0., 1., 0., 0., 0.],\n",
              "       [0., 1., 0., 0., 0., 0.],\n",
              "       [0., 0., 1., 0., 0., 0.],\n",
              "       [0., 1., 0., 0., 0., 0.],\n",
              "       [0., 0., 0., 0., 0., 1.],\n",
              "       [0., 0., 0., 0., 0., 1.],\n",
              "       [0., 0., 0., 0., 0., 1.],\n",
              "       [0., 0., 1., 0., 0., 0.],\n",
              "       [0., 0., 0., 0., 0., 1.],\n",
              "       [0., 0., 0., 0., 1., 0.],\n",
              "       [0., 0., 1., 0., 0., 0.],\n",
              "       [1., 0., 0., 0., 0., 0.],\n",
              "       [0., 1., 0., 0., 0., 0.],\n",
              "       [0., 0., 0., 1., 0., 0.],\n",
              "       [1., 0., 0., 0., 0., 0.],\n",
              "       [0., 0., 0., 1., 0., 0.],\n",
              "       [0., 1., 0., 0., 0., 0.],\n",
              "       [0., 0., 0., 0., 0., 1.],\n",
              "       [0., 0., 1., 0., 0., 0.],\n",
              "       [0., 1., 0., 0., 0., 0.],\n",
              "       [0., 1., 0., 0., 0., 0.],\n",
              "       [1., 0., 0., 0., 0., 0.],\n",
              "       [0., 0., 1., 0., 0., 0.],\n",
              "       [0., 0., 1., 0., 0., 0.],\n",
              "       [0., 0., 0., 0., 0., 1.],\n",
              "       [0., 0., 0., 0., 1., 0.],\n",
              "       [0., 1., 0., 0., 0., 0.],\n",
              "       [0., 1., 0., 0., 0., 0.],\n",
              "       [0., 1., 0., 0., 0., 0.],\n",
              "       [0., 0., 0., 0., 1., 0.],\n",
              "       [0., 0., 0., 1., 0., 0.],\n",
              "       [0., 0., 0., 1., 0., 0.],\n",
              "       [0., 0., 0., 0., 1., 0.],\n",
              "       [0., 1., 0., 0., 0., 0.],\n",
              "       [1., 0., 0., 0., 0., 0.],\n",
              "       [0., 0., 1., 0., 0., 0.],\n",
              "       [0., 1., 0., 0., 0., 0.],\n",
              "       [0., 0., 0., 0., 1., 0.],\n",
              "       [0., 0., 0., 0., 0., 1.],\n",
              "       [0., 1., 0., 0., 0., 0.],\n",
              "       [0., 0., 0., 0., 0., 1.],\n",
              "       [0., 1., 0., 0., 0., 0.],\n",
              "       [1., 0., 0., 0., 0., 0.],\n",
              "       [0., 0., 0., 0., 0., 1.],\n",
              "       [0., 0., 0., 1., 0., 0.],\n",
              "       [0., 1., 0., 0., 0., 0.],\n",
              "       [0., 0., 1., 0., 0., 0.],\n",
              "       [0., 0., 1., 0., 0., 0.],\n",
              "       [0., 1., 0., 0., 0., 0.],\n",
              "       [0., 1., 0., 0., 0., 0.],\n",
              "       [0., 0., 0., 1., 0., 0.],\n",
              "       [1., 0., 0., 0., 0., 0.],\n",
              "       [1., 0., 0., 0., 0., 0.],\n",
              "       [0., 1., 0., 0., 0., 0.],\n",
              "       [0., 0., 0., 1., 0., 0.],\n",
              "       [0., 1., 0., 0., 0., 0.],\n",
              "       [0., 1., 0., 0., 0., 0.],\n",
              "       [0., 0., 0., 0., 0., 1.],\n",
              "       [0., 1., 0., 0., 0., 0.],\n",
              "       [0., 0., 0., 1., 0., 0.],\n",
              "       [0., 0., 0., 1., 0., 0.],\n",
              "       [0., 0., 0., 0., 1., 0.],\n",
              "       [0., 0., 0., 1., 0., 0.],\n",
              "       [1., 0., 0., 0., 0., 0.],\n",
              "       [0., 0., 0., 1., 0., 0.],\n",
              "       [0., 1., 0., 0., 0., 0.],\n",
              "       [0., 0., 0., 0., 0., 1.],\n",
              "       [0., 0., 1., 0., 0., 0.],\n",
              "       [0., 0., 1., 0., 0., 0.],\n",
              "       [0., 0., 0., 0., 1., 0.],\n",
              "       [0., 1., 0., 0., 0., 0.],\n",
              "       [0., 1., 0., 0., 0., 0.],\n",
              "       [0., 0., 0., 0., 0., 1.],\n",
              "       [0., 0., 0., 0., 1., 0.]], dtype=float32)"
            ]
          },
          "metadata": {
            "tags": []
          },
          "execution_count": 29
        }
      ]
    },
    {
      "cell_type": "code",
      "metadata": {
        "id": "iskqFGG55aX1"
      },
      "source": [
        "from tensorflow.keras.models import Sequential\r\n",
        "from tensorflow.keras.layers import Conv2D,Dense,Flatten,MaxPooling2D,Dropout"
      ],
      "execution_count": null,
      "outputs": []
    },
    {
      "cell_type": "code",
      "metadata": {
        "id": "8Fmu4mC75ehK",
        "colab": {
          "base_uri": "https://localhost:8080/"
        },
        "outputId": "52e98a49-9c81-48f5-dd40-9c21a7dcf0fd"
      },
      "source": [
        "classifier=Sequential()\r\n",
        "classifier.add(Conv2D(32,(3,3), input_shape=(64,64,3), activation='relu'))\r\n",
        "classifier.add(MaxPooling2D(pool_size=(2,2)))\r\n",
        "classifier.add(Dropout(0.2))\r\n",
        "\r\n",
        "classifier.add(Conv2D(64,(3,3), activation='relu'))\r\n",
        "classifier.add(MaxPooling2D(pool_size=(2,2)))\r\n",
        "classifier.add(Dropout(0.2))\r\n",
        "\r\n",
        "classifier.add(Conv2D(128,(3,3), activation='relu'))\r\n",
        "classifier.add(MaxPooling2D(pool_size=(2,2)))\r\n",
        "classifier.add(Dropout(0.4))\r\n",
        "\r\n",
        "classifier.add(Flatten())\r\n",
        "\r\n",
        "classifier.add(Dense(activation='relu', units=64))\r\n",
        "classifier.add(Dense(activation='relu', units=128))\r\n",
        "classifier.add(Dense(activation='relu', units=64))\r\n",
        "classifier.add(Dense(activation='softmax', units=6))\r\n",
        "\r\n",
        "classifier.compile(optimizer='adam', loss='categorical_crossentropy', metrics=['accuracy'])\r\n",
        "\r\n",
        "classifier.summary()"
      ],
      "execution_count": null,
      "outputs": [
        {
          "output_type": "stream",
          "text": [
            "Model: \"sequential\"\n",
            "_________________________________________________________________\n",
            "Layer (type)                 Output Shape              Param #   \n",
            "=================================================================\n",
            "conv2d (Conv2D)              (None, 62, 62, 32)        896       \n",
            "_________________________________________________________________\n",
            "max_pooling2d (MaxPooling2D) (None, 31, 31, 32)        0         \n",
            "_________________________________________________________________\n",
            "dropout (Dropout)            (None, 31, 31, 32)        0         \n",
            "_________________________________________________________________\n",
            "conv2d_1 (Conv2D)            (None, 29, 29, 64)        18496     \n",
            "_________________________________________________________________\n",
            "max_pooling2d_1 (MaxPooling2 (None, 14, 14, 64)        0         \n",
            "_________________________________________________________________\n",
            "dropout_1 (Dropout)          (None, 14, 14, 64)        0         \n",
            "_________________________________________________________________\n",
            "conv2d_2 (Conv2D)            (None, 12, 12, 128)       73856     \n",
            "_________________________________________________________________\n",
            "max_pooling2d_2 (MaxPooling2 (None, 6, 6, 128)         0         \n",
            "_________________________________________________________________\n",
            "dropout_2 (Dropout)          (None, 6, 6, 128)         0         \n",
            "_________________________________________________________________\n",
            "flatten (Flatten)            (None, 4608)              0         \n",
            "_________________________________________________________________\n",
            "dense (Dense)                (None, 64)                294976    \n",
            "_________________________________________________________________\n",
            "dense_1 (Dense)              (None, 128)               8320      \n",
            "_________________________________________________________________\n",
            "dense_2 (Dense)              (None, 64)                8256      \n",
            "_________________________________________________________________\n",
            "dense_3 (Dense)              (None, 6)                 390       \n",
            "=================================================================\n",
            "Total params: 405,190\n",
            "Trainable params: 405,190\n",
            "Non-trainable params: 0\n",
            "_________________________________________________________________\n"
          ],
          "name": "stdout"
        }
      ]
    },
    {
      "cell_type": "code",
      "metadata": {
        "colab": {
          "base_uri": "https://localhost:8080/"
        },
        "id": "-CiDjQku4fe-",
        "outputId": "361647b5-42c8-442c-f6b0-986154993c82"
      },
      "source": [
        "hist=classifier.fit(X_train,one_hot_train,epochs=75,batch_size=10,validation_split=0.1)"
      ],
      "execution_count": null,
      "outputs": [
        {
          "output_type": "stream",
          "text": [
            "Epoch 1/75\n",
            "106/106 [==============================] - 1s 10ms/step - loss: 0.2477 - accuracy: 0.9129 - val_loss: 0.6173 - val_accuracy: 0.8136\n",
            "Epoch 2/75\n",
            "106/106 [==============================] - 1s 10ms/step - loss: 0.1718 - accuracy: 0.9347 - val_loss: 0.7223 - val_accuracy: 0.7797\n",
            "Epoch 3/75\n",
            "106/106 [==============================] - 1s 9ms/step - loss: 0.2510 - accuracy: 0.9129 - val_loss: 0.8105 - val_accuracy: 0.7627\n",
            "Epoch 4/75\n",
            "106/106 [==============================] - 1s 9ms/step - loss: 0.1639 - accuracy: 0.9527 - val_loss: 0.7424 - val_accuracy: 0.7881\n",
            "Epoch 5/75\n",
            "106/106 [==============================] - 1s 9ms/step - loss: 0.1451 - accuracy: 0.9479 - val_loss: 0.5859 - val_accuracy: 0.8390\n",
            "Epoch 6/75\n",
            "106/106 [==============================] - 1s 9ms/step - loss: 0.1826 - accuracy: 0.9441 - val_loss: 0.6445 - val_accuracy: 0.8220\n",
            "Epoch 7/75\n",
            "106/106 [==============================] - 1s 9ms/step - loss: 0.2204 - accuracy: 0.9252 - val_loss: 0.9520 - val_accuracy: 0.7203\n",
            "Epoch 8/75\n",
            "106/106 [==============================] - 1s 9ms/step - loss: 0.2014 - accuracy: 0.9328 - val_loss: 1.0023 - val_accuracy: 0.7119\n",
            "Epoch 9/75\n",
            "106/106 [==============================] - 1s 9ms/step - loss: 0.1537 - accuracy: 0.9451 - val_loss: 0.6729 - val_accuracy: 0.7881\n",
            "Epoch 10/75\n",
            "106/106 [==============================] - 1s 9ms/step - loss: 0.1247 - accuracy: 0.9631 - val_loss: 0.7995 - val_accuracy: 0.7881\n",
            "Epoch 11/75\n",
            "106/106 [==============================] - 1s 9ms/step - loss: 0.1564 - accuracy: 0.9451 - val_loss: 1.1245 - val_accuracy: 0.7542\n",
            "Epoch 12/75\n",
            "106/106 [==============================] - 1s 9ms/step - loss: 0.1276 - accuracy: 0.9536 - val_loss: 0.8002 - val_accuracy: 0.8390\n",
            "Epoch 13/75\n",
            "106/106 [==============================] - 1s 9ms/step - loss: 0.0928 - accuracy: 0.9706 - val_loss: 0.8655 - val_accuracy: 0.7881\n",
            "Epoch 14/75\n",
            "106/106 [==============================] - 1s 9ms/step - loss: 0.1453 - accuracy: 0.9489 - val_loss: 1.1616 - val_accuracy: 0.7288\n",
            "Epoch 15/75\n",
            "106/106 [==============================] - 1s 9ms/step - loss: 0.1603 - accuracy: 0.9536 - val_loss: 0.7981 - val_accuracy: 0.8136\n",
            "Epoch 16/75\n",
            "106/106 [==============================] - 1s 9ms/step - loss: 0.0687 - accuracy: 0.9820 - val_loss: 0.7899 - val_accuracy: 0.8305\n",
            "Epoch 17/75\n",
            "106/106 [==============================] - 1s 9ms/step - loss: 0.0605 - accuracy: 0.9839 - val_loss: 0.8921 - val_accuracy: 0.7712\n",
            "Epoch 18/75\n",
            "106/106 [==============================] - 1s 9ms/step - loss: 0.1048 - accuracy: 0.9669 - val_loss: 0.8316 - val_accuracy: 0.7542\n",
            "Epoch 19/75\n",
            "106/106 [==============================] - 1s 9ms/step - loss: 0.1347 - accuracy: 0.9517 - val_loss: 1.2446 - val_accuracy: 0.7797\n",
            "Epoch 20/75\n",
            "106/106 [==============================] - 1s 9ms/step - loss: 0.0902 - accuracy: 0.9659 - val_loss: 0.9700 - val_accuracy: 0.7373\n",
            "Epoch 21/75\n",
            "106/106 [==============================] - 1s 9ms/step - loss: 0.1299 - accuracy: 0.9593 - val_loss: 0.9300 - val_accuracy: 0.8051\n",
            "Epoch 22/75\n",
            "106/106 [==============================] - 1s 9ms/step - loss: 0.0633 - accuracy: 0.9773 - val_loss: 0.7580 - val_accuracy: 0.8305\n",
            "Epoch 23/75\n",
            "106/106 [==============================] - 1s 9ms/step - loss: 0.0472 - accuracy: 0.9811 - val_loss: 0.9476 - val_accuracy: 0.8051\n",
            "Epoch 24/75\n",
            "106/106 [==============================] - 1s 9ms/step - loss: 0.0818 - accuracy: 0.9801 - val_loss: 1.2570 - val_accuracy: 0.7881\n",
            "Epoch 25/75\n",
            "106/106 [==============================] - 1s 9ms/step - loss: 0.1155 - accuracy: 0.9621 - val_loss: 0.9316 - val_accuracy: 0.8136\n",
            "Epoch 26/75\n",
            "106/106 [==============================] - 1s 9ms/step - loss: 0.1458 - accuracy: 0.9574 - val_loss: 0.8134 - val_accuracy: 0.8136\n",
            "Epoch 27/75\n",
            "106/106 [==============================] - 1s 9ms/step - loss: 0.0829 - accuracy: 0.9754 - val_loss: 0.8644 - val_accuracy: 0.8220\n",
            "Epoch 28/75\n",
            "106/106 [==============================] - 1s 9ms/step - loss: 0.0825 - accuracy: 0.9697 - val_loss: 1.0751 - val_accuracy: 0.8051\n",
            "Epoch 29/75\n",
            "106/106 [==============================] - 1s 9ms/step - loss: 0.0642 - accuracy: 0.9801 - val_loss: 0.7926 - val_accuracy: 0.8220\n",
            "Epoch 30/75\n",
            "106/106 [==============================] - 1s 9ms/step - loss: 0.0676 - accuracy: 0.9792 - val_loss: 1.0593 - val_accuracy: 0.7966\n",
            "Epoch 31/75\n",
            "106/106 [==============================] - 1s 9ms/step - loss: 0.0834 - accuracy: 0.9697 - val_loss: 1.0462 - val_accuracy: 0.7966\n",
            "Epoch 32/75\n",
            "106/106 [==============================] - 1s 9ms/step - loss: 0.0567 - accuracy: 0.9896 - val_loss: 0.8935 - val_accuracy: 0.7881\n",
            "Epoch 33/75\n",
            "106/106 [==============================] - 1s 9ms/step - loss: 0.1082 - accuracy: 0.9688 - val_loss: 0.8624 - val_accuracy: 0.7797\n",
            "Epoch 34/75\n",
            "106/106 [==============================] - 1s 9ms/step - loss: 0.1344 - accuracy: 0.9564 - val_loss: 1.2281 - val_accuracy: 0.7627\n",
            "Epoch 35/75\n",
            "106/106 [==============================] - 1s 9ms/step - loss: 0.0887 - accuracy: 0.9744 - val_loss: 0.8620 - val_accuracy: 0.8220\n",
            "Epoch 36/75\n",
            "106/106 [==============================] - 1s 9ms/step - loss: 0.0220 - accuracy: 0.9934 - val_loss: 0.9103 - val_accuracy: 0.8305\n",
            "Epoch 37/75\n",
            "106/106 [==============================] - 1s 9ms/step - loss: 0.0516 - accuracy: 0.9811 - val_loss: 1.1773 - val_accuracy: 0.7712\n",
            "Epoch 38/75\n",
            "106/106 [==============================] - 1s 9ms/step - loss: 0.0694 - accuracy: 0.9782 - val_loss: 0.7534 - val_accuracy: 0.8220\n",
            "Epoch 39/75\n",
            "106/106 [==============================] - 1s 9ms/step - loss: 0.0909 - accuracy: 0.9725 - val_loss: 1.0415 - val_accuracy: 0.8220\n",
            "Epoch 40/75\n",
            "106/106 [==============================] - 1s 9ms/step - loss: 0.0452 - accuracy: 0.9839 - val_loss: 0.9534 - val_accuracy: 0.8136\n",
            "Epoch 41/75\n",
            "106/106 [==============================] - 1s 9ms/step - loss: 0.1219 - accuracy: 0.9697 - val_loss: 0.8601 - val_accuracy: 0.8305\n",
            "Epoch 42/75\n",
            "106/106 [==============================] - 1s 9ms/step - loss: 0.0278 - accuracy: 0.9915 - val_loss: 0.7735 - val_accuracy: 0.8220\n",
            "Epoch 43/75\n",
            "106/106 [==============================] - 1s 9ms/step - loss: 0.0545 - accuracy: 0.9839 - val_loss: 0.8643 - val_accuracy: 0.8220\n",
            "Epoch 44/75\n",
            "106/106 [==============================] - 1s 9ms/step - loss: 0.0820 - accuracy: 0.9792 - val_loss: 0.7853 - val_accuracy: 0.7966\n",
            "Epoch 45/75\n",
            "106/106 [==============================] - 1s 9ms/step - loss: 0.0177 - accuracy: 0.9953 - val_loss: 0.8148 - val_accuracy: 0.8475\n",
            "Epoch 46/75\n",
            "106/106 [==============================] - 1s 9ms/step - loss: 0.0319 - accuracy: 0.9896 - val_loss: 0.9653 - val_accuracy: 0.8051\n",
            "Epoch 47/75\n",
            "106/106 [==============================] - 1s 9ms/step - loss: 0.0339 - accuracy: 0.9905 - val_loss: 0.8181 - val_accuracy: 0.8305\n",
            "Epoch 48/75\n",
            "106/106 [==============================] - 1s 10ms/step - loss: 0.1160 - accuracy: 0.9669 - val_loss: 0.7847 - val_accuracy: 0.8220\n",
            "Epoch 49/75\n",
            "106/106 [==============================] - 1s 9ms/step - loss: 0.0393 - accuracy: 0.9877 - val_loss: 0.9220 - val_accuracy: 0.8390\n",
            "Epoch 50/75\n",
            "106/106 [==============================] - 1s 9ms/step - loss: 0.0491 - accuracy: 0.9830 - val_loss: 1.2883 - val_accuracy: 0.7458\n",
            "Epoch 51/75\n",
            "106/106 [==============================] - 1s 9ms/step - loss: 0.0334 - accuracy: 0.9877 - val_loss: 1.0581 - val_accuracy: 0.8051\n",
            "Epoch 52/75\n",
            "106/106 [==============================] - 1s 9ms/step - loss: 0.0338 - accuracy: 0.9905 - val_loss: 1.0983 - val_accuracy: 0.7881\n",
            "Epoch 53/75\n",
            "106/106 [==============================] - 1s 9ms/step - loss: 0.0702 - accuracy: 0.9773 - val_loss: 1.2949 - val_accuracy: 0.7712\n",
            "Epoch 54/75\n",
            "106/106 [==============================] - 1s 9ms/step - loss: 0.1534 - accuracy: 0.9555 - val_loss: 0.9872 - val_accuracy: 0.7881\n",
            "Epoch 55/75\n",
            "106/106 [==============================] - 1s 9ms/step - loss: 0.0426 - accuracy: 0.9858 - val_loss: 0.9849 - val_accuracy: 0.7966\n",
            "Epoch 56/75\n",
            "106/106 [==============================] - 1s 9ms/step - loss: 0.0323 - accuracy: 0.9896 - val_loss: 1.0569 - val_accuracy: 0.7966\n",
            "Epoch 57/75\n",
            "106/106 [==============================] - 1s 9ms/step - loss: 0.0470 - accuracy: 0.9896 - val_loss: 1.0597 - val_accuracy: 0.7966\n",
            "Epoch 58/75\n",
            "106/106 [==============================] - 1s 9ms/step - loss: 0.0377 - accuracy: 0.9886 - val_loss: 0.8632 - val_accuracy: 0.8136\n",
            "Epoch 59/75\n",
            "106/106 [==============================] - 1s 9ms/step - loss: 0.0712 - accuracy: 0.9754 - val_loss: 0.7516 - val_accuracy: 0.7881\n",
            "Epoch 60/75\n",
            "106/106 [==============================] - 1s 9ms/step - loss: 0.0511 - accuracy: 0.9830 - val_loss: 1.1233 - val_accuracy: 0.7797\n",
            "Epoch 61/75\n",
            "106/106 [==============================] - 1s 9ms/step - loss: 0.0405 - accuracy: 0.9858 - val_loss: 1.1507 - val_accuracy: 0.7627\n",
            "Epoch 62/75\n",
            "106/106 [==============================] - 1s 9ms/step - loss: 0.0798 - accuracy: 0.9754 - val_loss: 1.4238 - val_accuracy: 0.7627\n",
            "Epoch 63/75\n",
            "106/106 [==============================] - 1s 9ms/step - loss: 0.0316 - accuracy: 0.9877 - val_loss: 1.0988 - val_accuracy: 0.8051\n",
            "Epoch 64/75\n",
            "106/106 [==============================] - 1s 9ms/step - loss: 0.0471 - accuracy: 0.9811 - val_loss: 1.1526 - val_accuracy: 0.7797\n",
            "Epoch 65/75\n",
            "106/106 [==============================] - 1s 9ms/step - loss: 0.0829 - accuracy: 0.9792 - val_loss: 1.1036 - val_accuracy: 0.7797\n",
            "Epoch 66/75\n",
            "106/106 [==============================] - 1s 9ms/step - loss: 0.0658 - accuracy: 0.9773 - val_loss: 1.0058 - val_accuracy: 0.8051\n",
            "Epoch 67/75\n",
            "106/106 [==============================] - 1s 9ms/step - loss: 0.0898 - accuracy: 0.9773 - val_loss: 0.9112 - val_accuracy: 0.8220\n",
            "Epoch 68/75\n",
            "106/106 [==============================] - 1s 9ms/step - loss: 0.0595 - accuracy: 0.9811 - val_loss: 0.7500 - val_accuracy: 0.8475\n",
            "Epoch 69/75\n",
            "106/106 [==============================] - 1s 9ms/step - loss: 0.0460 - accuracy: 0.9858 - val_loss: 1.4744 - val_accuracy: 0.7458\n",
            "Epoch 70/75\n",
            "106/106 [==============================] - 1s 9ms/step - loss: 0.0687 - accuracy: 0.9792 - val_loss: 0.8071 - val_accuracy: 0.8051\n",
            "Epoch 71/75\n",
            "106/106 [==============================] - 1s 9ms/step - loss: 0.0191 - accuracy: 0.9896 - val_loss: 1.0672 - val_accuracy: 0.7966\n",
            "Epoch 72/75\n",
            "106/106 [==============================] - 1s 9ms/step - loss: 0.0175 - accuracy: 0.9943 - val_loss: 0.8731 - val_accuracy: 0.8390\n",
            "Epoch 73/75\n",
            "106/106 [==============================] - 1s 9ms/step - loss: 0.0119 - accuracy: 0.9981 - val_loss: 0.9090 - val_accuracy: 0.7966\n",
            "Epoch 74/75\n",
            "106/106 [==============================] - 1s 9ms/step - loss: 0.1089 - accuracy: 0.9659 - val_loss: 0.8833 - val_accuracy: 0.8475\n",
            "Epoch 75/75\n",
            "106/106 [==============================] - 1s 9ms/step - loss: 0.0391 - accuracy: 0.9886 - val_loss: 1.0494 - val_accuracy: 0.7966\n"
          ],
          "name": "stdout"
        }
      ]
    },
    {
      "cell_type": "code",
      "metadata": {
        "id": "TfHdXhQzDs2R",
        "colab": {
          "base_uri": "https://localhost:8080/"
        },
        "outputId": "64430afb-ddc7-451f-b8ea-069dd490fd35"
      },
      "source": [
        "test_loss,test_acc=classifier.evaluate(X_test,one_hot_test)\r\n",
        "test_loss,test_acc"
      ],
      "execution_count": null,
      "outputs": [
        {
          "output_type": "stream",
          "text": [
            "5/5 [==============================] - 0s 6ms/step - loss: 2.0538 - accuracy: 0.7448\n"
          ],
          "name": "stdout"
        },
        {
          "output_type": "execute_result",
          "data": {
            "text/plain": [
              "(2.053816795349121, 0.7448275685310364)"
            ]
          },
          "metadata": {
            "tags": []
          },
          "execution_count": 42
        }
      ]
    },
    {
      "cell_type": "code",
      "metadata": {
        "colab": {
          "base_uri": "https://localhost:8080/",
          "height": 295
        },
        "id": "l3HFR1107my2",
        "outputId": "ad559823-6fad-4563-80fb-0163b65661ed"
      },
      "source": [
        "plt.plot(hist.history['loss'])\r\n",
        "plt.plot(hist.history['val_loss'])\r\n",
        "plt.title('Classifier Loss')\r\n",
        "plt.ylabel('Loss')\r\n",
        "plt.xlabel('Epoch')\r\n",
        "plt.legend(['Train','Validation'],loc='upper right')\r\n",
        "plt.show()"
      ],
      "execution_count": null,
      "outputs": [
        {
          "output_type": "display_data",
          "data": {
            "image/png": "[encoded data removed]",
            "text/plain": [
              "<Figure size 432x288 with 1 Axes>"
            ]
          },
          "metadata": {
            "tags": [],
            "needs_background": "light"
          }
        }
      ]
    },
    {
      "cell_type": "code",
      "metadata": {
        "colab": {
          "base_uri": "https://localhost:8080/",
          "height": 295
        },
        "id": "afr8xedc7rlt",
        "outputId": "221e96fd-21f0-4db5-f53b-ded645ec74fb"
      },
      "source": [
        "plt.plot(hist.history['accuracy'])\r\n",
        "plt.plot(hist.history['val_accuracy'])\r\n",
        "plt.title('Classifier Accuracy')\r\n",
        "plt.ylabel('Accuracy')\r\n",
        "plt.xlabel('Epoch')\r\n",
        "plt.legend(['Train','Validation'],loc='upper left')\r\n",
        "plt.show()"
      ],
      "execution_count": null,
      "outputs": [
        {
          "output_type": "display_data",
          "data": {
            "image/png": "[encoded data removed]",
            "text/plain": [
              "<Figure size 432x288 with 1 Axes>"
            ]
          },
          "metadata": {
            "tags": [],
            "needs_background": "light"
          }
        }
      ]
    },
    {
      "cell_type": "code",
      "metadata": {
        "id": "RR0mtmHK7yx8",
        "colab": {
          "base_uri": "https://localhost:8080/"
        },
        "outputId": "7a3a24ef-dcc3-45db-877c-842481c62c90"
      },
      "source": [
        "y_pred=classifier.predict_classes(X_test)\r\n",
        "y_pred"
      ],
      "execution_count": null,
      "outputs": [
        {
          "output_type": "stream",
          "text": [
            "/usr/local/lib/python3.6/dist-packages/tensorflow/python/keras/engine/sequential.py:450: UserWarning: `model.predict_classes()` is deprecated and will be removed after 2021-01-01. Please use instead:* `np.argmax(model.predict(x), axis=-1)`,   if your model does multi-class classification   (e.g. if it uses a `softmax` last-layer activation).* `(model.predict(x) > 0.5).astype(\"int32\")`,   if your model does binary classification   (e.g. if it uses a `sigmoid` last-layer activation).\n",
            "  warnings.warn('`model.predict_classes()` is deprecated and '\n"
          ],
          "name": "stderr"
        },
        {
          "output_type": "execute_result",
          "data": {
            "text/plain": [
              "array([3, 4, 3, 3, 4, 3, 4, 3, 1, 0, 0, 0, 2, 2, 2, 3, 2, 2, 2, 2, 3, 5,\n",
              "       5, 0, 1, 3, 4, 1, 5, 2, 1, 1, 1, 1, 2, 1, 0, 0, 0, 1, 1, 1, 0, 1,\n",
              "       2, 0, 1, 1, 5, 1, 0, 1, 1, 3, 4, 1, 1, 1, 5, 1, 4, 1, 3, 4, 3, 1,\n",
              "       5, 5, 0, 1, 4, 2, 1, 2, 1, 5, 5, 5, 5, 5, 2, 0, 1, 1, 3, 0, 4, 1,\n",
              "       5, 2, 1, 1, 0, 2, 0, 5, 4, 1, 1, 3, 4, 3, 3, 4, 1, 1, 0, 1, 0, 5,\n",
              "       1, 0, 1, 1, 5, 3, 0, 2, 2, 1, 1, 3, 0, 2, 1, 3, 1, 1, 5, 1, 0, 3,\n",
              "       4, 3, 0, 1, 0, 5, 0, 2, 4, 4, 0, 5, 4])"
            ]
          },
          "metadata": {
            "tags": []
          },
          "execution_count": 45
        }
      ]
    },
    {
      "cell_type": "code",
      "metadata": {
        "id": "GduC7lk972Tp",
        "colab": {
          "base_uri": "https://localhost:8080/"
        },
        "outputId": "75b93693-5898-4c32-fdf0-55674cc9c690"
      },
      "source": [
        "y_prob=classifier.predict_proba(X_test)\r\n",
        "y_prob"
      ],
      "execution_count": null,
      "outputs": [
        {
          "output_type": "stream",
          "text": [
            "/usr/local/lib/python3.6/dist-packages/tensorflow/python/keras/engine/sequential.py:425: UserWarning: `model.predict_proba()` is deprecated and will be removed after 2021-01-01. Please use `model.predict()` instead.\n",
            "  warnings.warn('`model.predict_proba()` is deprecated and '\n"
          ],
          "name": "stderr"
        },
        {
          "output_type": "execute_result",
          "data": {
            "text/plain": [
              "array([[4.46948252e-05, 6.70378432e-02, 5.00355673e-04, 9.01311815e-01,\n",
              "        3.10204681e-02, 8.47380943e-05],\n",
              "       [1.32178699e-04, 2.77030449e-02, 5.46026044e-04, 2.19406662e-04,\n",
              "        9.69787776e-01, 1.61154137e-03],\n",
              "       [5.39647632e-11, 2.06015713e-07, 8.40248731e-07, 9.99998927e-01,\n",
              "        1.12177256e-09, 2.21531571e-09],\n",
              "       [3.75941704e-06, 8.97184327e-06, 3.35886434e-05, 9.99878407e-01,\n",
              "        7.44714998e-05, 7.67046402e-07],\n",
              "       [2.37554559e-10, 4.94930141e-08, 1.39457146e-09, 1.67785814e-07,\n",
              "        9.99999762e-01, 8.41566122e-11],\n",
              "       [1.79685369e-01, 1.45294601e-02, 1.88573152e-02, 6.30106807e-01,\n",
              "        1.56214491e-01, 6.06554269e-04],\n",
              "       [4.40911717e-05, 2.25570830e-06, 4.57481292e-06, 1.17759764e-05,\n",
              "        9.99937177e-01, 1.09688493e-07],\n",
              "       [1.82056858e-08, 1.65916185e-06, 5.53568476e-04, 9.99444544e-01,\n",
              "        4.33493383e-08, 2.03212352e-07],\n",
              "       [1.59014562e-05, 9.99877930e-01, 5.54642793e-05, 4.51236338e-05,\n",
              "        5.54936696e-06, 2.02935411e-08],\n",
              "       [9.90948021e-01, 9.41229402e-04, 7.62051716e-03, 1.06680331e-04,\n",
              "        3.83065606e-04, 3.80916276e-07],\n",
              "       [9.90190208e-01, 2.38250825e-03, 1.39430666e-03, 4.86747874e-03,\n",
              "        9.52666102e-04, 2.12851635e-04],\n",
              "       [9.99984622e-01, 1.25722431e-06, 1.62908137e-07, 2.25228359e-06,\n",
              "        1.16306792e-05, 1.18714794e-09],\n",
              "       [1.55465398e-02, 7.39250109e-02, 5.57979345e-01, 3.50637943e-01,\n",
              "        1.65039848e-03, 2.60770379e-04],\n",
              "       [1.64980426e-01, 1.83602404e-02, 8.00524533e-01, 1.39612490e-02,\n",
              "        1.69170205e-03, 4.81947704e-04],\n",
              "       [1.60308318e-07, 1.07456754e-06, 9.99998093e-01, 5.49349636e-07,\n",
              "        8.04073110e-08, 2.07680029e-09],\n",
              "       [4.92354031e-12, 6.22431884e-08, 3.54529277e-08, 9.99999762e-01,\n",
              "        6.05396835e-08, 2.29561273e-10],\n",
              "       [8.84912238e-02, 5.80991656e-02, 8.47879171e-01, 7.77918438e-04,\n",
              "        4.62976377e-03, 1.22739497e-04],\n",
              "       [2.94636469e-04, 2.71169356e-05, 9.99647379e-01, 1.20199172e-06,\n",
              "        2.81296834e-05, 1.55648115e-06],\n",
              "       [1.01263877e-02, 1.94731037e-04, 9.38110113e-01, 9.94414324e-04,\n",
              "        5.02631925e-02, 3.11164447e-04],\n",
              "       [9.88323399e-12, 1.01490061e-09, 1.00000000e+00, 2.30301396e-08,\n",
              "        8.01167021e-13, 6.94262735e-13],\n",
              "       [6.16277568e-04, 2.04975493e-02, 1.05095971e-02, 9.59773242e-01,\n",
              "        7.52791669e-03, 1.07542565e-03],\n",
              "       [2.35839397e-26, 5.30855722e-28, 1.92315391e-27, 2.95613641e-34,\n",
              "        3.77077466e-33, 1.00000000e+00],\n",
              "       [4.25372293e-10, 2.66301738e-11, 3.37897639e-08, 4.33774571e-13,\n",
              "        7.56795139e-14, 1.00000000e+00],\n",
              "       [8.47098827e-01, 1.41400337e-01, 1.09325233e-03, 4.07239981e-03,\n",
              "        6.30876143e-03, 2.64308692e-05],\n",
              "       [7.36488528e-06, 9.97759938e-01, 1.35742303e-03, 5.26447548e-04,\n",
              "        3.48264351e-04, 5.13442558e-07],\n",
              "       [4.62130507e-12, 2.28341305e-05, 2.00977894e-07, 9.99976873e-01,\n",
              "        1.59448099e-08, 1.22936772e-09],\n",
              "       [3.52759822e-03, 9.50459707e-06, 5.00341528e-04, 7.15012022e-04,\n",
              "        9.95238304e-01, 9.29633188e-06],\n",
              "       [7.35466674e-05, 9.31909740e-01, 4.12685201e-02, 2.63812821e-02,\n",
              "        3.59750498e-04, 7.21953984e-06],\n",
              "       [4.30044738e-19, 1.08568578e-20, 3.55985697e-18, 1.06574966e-23,\n",
              "        2.32159378e-24, 1.00000000e+00],\n",
              "       [1.76519956e-04, 2.72993714e-01, 7.14337885e-01, 1.18237287e-02,\n",
              "        6.64329331e-04, 3.76863295e-06],\n",
              "       [1.76589960e-08, 9.99988317e-01, 8.45298837e-06, 3.27829707e-06,\n",
              "        3.80252807e-08, 5.99721574e-12],\n",
              "       [6.41061320e-08, 9.99995470e-01, 4.31472351e-08, 3.71604983e-06,\n",
              "        5.75730610e-07, 2.54148169e-09],\n",
              "       [1.45981212e-05, 9.99512911e-01, 2.10606049e-05, 2.30715857e-04,\n",
              "        2.18917441e-04, 1.79977155e-06],\n",
              "       [5.69802114e-06, 9.99973536e-01, 5.47169202e-06, 1.31587694e-05,\n",
              "        2.09667860e-06, 2.38087434e-08],\n",
              "       [1.13949561e-02, 2.25904025e-03, 9.82819259e-01, 6.09284150e-04,\n",
              "        2.78278906e-03, 1.34720336e-04],\n",
              "       [7.71560238e-09, 1.00000000e+00, 1.81804249e-09, 3.02293870e-08,\n",
              "        9.75515571e-11, 1.54197054e-12],\n",
              "       [8.78274679e-01, 3.32661532e-03, 3.38798651e-04, 9.79092643e-02,\n",
              "        1.40793445e-02, 6.07135473e-03],\n",
              "       [8.81110847e-01, 6.55474141e-03, 1.10764101e-01, 1.10573031e-03,\n",
              "        3.29520815e-04, 1.35039299e-04],\n",
              "       [7.04866111e-01, 2.39821132e-02, 1.81790605e-01, 1.46486899e-02,\n",
              "        2.39825938e-02, 5.07298745e-02],\n",
              "       [2.25097278e-06, 9.99558032e-01, 8.08169534e-06, 7.27938686e-06,\n",
              "        4.24302765e-04, 5.19064756e-08],\n",
              "       [2.32475027e-02, 5.45024037e-01, 3.42328995e-01, 6.49572462e-02,\n",
              "        2.33224388e-02, 1.11979735e-03],\n",
              "       [2.24519044e-05, 9.99290466e-01, 3.85693820e-05, 3.65882501e-04,\n",
              "        2.77692132e-04, 4.95230961e-06],\n",
              "       [9.99919176e-01, 5.91762455e-06, 1.96274982e-07, 5.33241803e-07,\n",
              "        7.41248587e-05, 6.26498464e-10],\n",
              "       [1.02809690e-05, 9.99906659e-01, 4.96442590e-06, 7.56901281e-05,\n",
              "        1.75810010e-06, 6.08266078e-07],\n",
              "       [2.24434402e-07, 2.21877235e-05, 9.99977589e-01, 1.96901304e-08,\n",
              "        1.00820472e-08, 1.43994727e-09],\n",
              "       [7.93230534e-01, 1.31686339e-02, 8.12241957e-02, 1.26927815e-04,\n",
              "        3.76195057e-05, 1.12212010e-01],\n",
              "       [9.70671768e-04, 9.96384740e-01, 6.55476004e-04, 1.05032953e-03,\n",
              "        9.22316161e-04, 1.65005931e-05],\n",
              "       [5.88148460e-02, 7.66490400e-01, 5.59853315e-02, 1.11682408e-01,\n",
              "        6.39999239e-03, 6.27031550e-04],\n",
              "       [6.12322548e-09, 2.15474739e-11, 8.29275919e-08, 1.81742493e-13,\n",
              "        1.29749578e-13, 9.99999881e-01],\n",
              "       [1.32878719e-09, 1.00000000e+00, 1.72334780e-09, 5.49946400e-08,\n",
              "        4.29317304e-10, 2.06109643e-11],\n",
              "       [8.80424201e-01, 3.33759654e-03, 1.54635357e-02, 4.50793281e-03,\n",
              "        9.43343341e-02, 1.93244137e-03],\n",
              "       [1.40060321e-04, 9.99126375e-01, 2.48519846e-05, 6.77868666e-04,\n",
              "        2.77740146e-05, 3.12758129e-06],\n",
              "       [5.15603274e-02, 9.17655766e-01, 5.91101125e-04, 1.26768241e-03,\n",
              "        2.85873935e-02, 3.37685662e-04],\n",
              "       [3.58851403e-02, 2.24107429e-02, 7.07628503e-02, 4.46771562e-01,\n",
              "        4.16296571e-01, 7.87310209e-03],\n",
              "       [2.85831266e-06, 1.92938128e-08, 1.06369941e-06, 5.82784969e-06,\n",
              "        9.99990225e-01, 1.56566458e-08],\n",
              "       [4.11037775e-03, 8.91644716e-01, 6.57846406e-02, 2.62382030e-02,\n",
              "        1.18854381e-02, 3.36640864e-04],\n",
              "       [2.78319120e-01, 7.21572757e-01, 3.55578868e-06, 4.46267077e-05,\n",
              "        5.99548039e-05, 1.69000405e-08],\n",
              "       [1.36307590e-05, 9.98203516e-01, 2.49657634e-04, 1.30876363e-03,\n",
              "        2.22094342e-04, 2.16322269e-06],\n",
              "       [1.34120535e-04, 3.48982372e-04, 3.13439756e-04, 6.77889548e-05,\n",
              "        6.39216742e-05, 9.99071717e-01],\n",
              "       [2.38496996e-03, 9.96810019e-01, 7.72297033e-04, 3.24733192e-05,\n",
              "        2.10968274e-08, 6.03746670e-08],\n",
              "       [6.81792153e-03, 3.92195761e-05, 1.26306457e-03, 1.59978250e-03,\n",
              "        9.90155458e-01, 1.24519909e-04],\n",
              "       [4.97643021e-04, 9.97453988e-01, 1.68122875e-03, 2.95141217e-04,\n",
              "        7.10545864e-05, 1.01558362e-06],\n",
              "       [6.00946208e-08, 3.70667090e-06, 1.00945417e-05, 9.99981403e-01,\n",
              "        4.26767065e-06, 3.40143743e-07],\n",
              "       [8.29630299e-05, 7.15830879e-07, 5.94113726e-06, 4.82017313e-05,\n",
              "        9.99862075e-01, 1.63332288e-07],\n",
              "       [4.97563415e-05, 1.68174563e-03, 3.56996432e-03, 9.93763745e-01,\n",
              "        6.02192828e-04, 3.32674390e-04],\n",
              "       [1.08857911e-07, 9.99973178e-01, 2.95801556e-07, 2.59310073e-05,\n",
              "        4.30515144e-07, 5.67391290e-09],\n",
              "       [3.10755780e-33, 2.05241730e-35, 2.29884393e-35, 0.00000000e+00,\n",
              "        0.00000000e+00, 1.00000000e+00],\n",
              "       [1.05103741e-23, 1.79486379e-25, 2.03198697e-24, 6.12487476e-31,\n",
              "        1.10234982e-27, 1.00000000e+00],\n",
              "       [9.99997020e-01, 1.89833273e-07, 9.16773857e-09, 2.74423701e-06,\n",
              "        2.93756237e-08, 1.95131272e-10],\n",
              "       [2.08420962e-01, 2.79617339e-01, 1.97129190e-01, 7.39560947e-02,\n",
              "        2.23063588e-01, 1.78128071e-02],\n",
              "       [3.66278146e-05, 7.80991741e-07, 2.31233639e-06, 2.97469232e-05,\n",
              "        9.99930382e-01, 7.14874488e-08],\n",
              "       [2.06541517e-06, 2.47476404e-08, 9.99723613e-01, 1.14872076e-08,\n",
              "        2.01581756e-08, 2.74192280e-04],\n",
              "       [1.11878808e-06, 9.99994040e-01, 4.37809604e-07, 4.30837326e-06,\n",
              "        6.57746426e-08, 5.62190294e-09],\n",
              "       [2.33797267e-01, 8.49386025e-03, 7.53909707e-01, 1.28703017e-03,\n",
              "        3.42475105e-04, 2.16958416e-03],\n",
              "       [7.89227943e-06, 9.99533415e-01, 1.45835047e-05, 3.39576101e-04,\n",
              "        1.04412975e-04, 2.39295474e-07],\n",
              "       [6.49853391e-05, 6.17002152e-05, 9.03547698e-05, 1.15125886e-05,\n",
              "        2.23212483e-05, 9.99749124e-01],\n",
              "       [1.55668576e-21, 1.37839283e-24, 2.73234723e-23, 7.87086522e-29,\n",
              "        4.12064219e-28, 1.00000000e+00],\n",
              "       [4.42529085e-07, 1.49477817e-08, 8.15789747e-07, 2.23737517e-09,\n",
              "        2.98199354e-09, 9.99998689e-01],\n",
              "       [1.40400708e-03, 2.09887967e-05, 6.42922305e-06, 5.63228930e-08,\n",
              "        1.82185195e-05, 9.98550236e-01],\n",
              "       [5.66692580e-13, 1.41543932e-09, 5.65474642e-13, 2.29585252e-15,\n",
              "        1.06065289e-13, 1.00000000e+00],\n",
              "       [6.08293572e-04, 1.94052016e-04, 9.94566441e-01, 5.77242696e-04,\n",
              "        3.99803370e-03, 5.59598848e-05],\n",
              "       [9.81353760e-01, 1.00555178e-02, 3.54313385e-03, 3.07729031e-04,\n",
              "        4.71747248e-03, 2.23122333e-05],\n",
              "       [7.90641861e-05, 9.65100169e-01, 7.03222177e-05, 1.46384875e-03,\n",
              "        1.13160731e-02, 2.19705626e-02],\n",
              "       [2.31505284e-04, 9.99718606e-01, 2.31613594e-05, 2.16719964e-05,\n",
              "        4.98829195e-06, 6.38739763e-08],\n",
              "       [1.58887251e-05, 3.00728279e-04, 7.18791154e-04, 9.98449683e-01,\n",
              "        4.79557988e-04, 3.53002979e-05],\n",
              "       [9.99816239e-01, 1.37058436e-04, 7.02938678e-07, 5.10133518e-08,\n",
              "        4.59520124e-05, 3.32487232e-10],\n",
              "       [8.26783653e-04, 1.15443319e-04, 1.47812197e-03, 4.90279682e-02,\n",
              "        9.48439837e-01, 1.11863010e-04],\n",
              "       [5.32313652e-06, 9.99770224e-01, 7.97743542e-06, 1.17227006e-04,\n",
              "        9.89166074e-05, 2.84000095e-07],\n",
              "       [4.97266950e-10, 5.94547545e-12, 1.15977488e-11, 1.87392216e-13,\n",
              "        3.53473788e-13, 1.00000000e+00],\n",
              "       [1.59269570e-10, 5.09758338e-12, 1.00000000e+00, 3.11503254e-12,\n",
              "        3.44086586e-12, 1.65316938e-09],\n",
              "       [1.58857949e-09, 1.00000000e+00, 3.20633742e-10, 1.91581364e-08,\n",
              "        6.46730169e-10, 2.05496405e-12],\n",
              "       [2.97507029e-02, 9.54470694e-01, 1.56492330e-02, 6.26801775e-05,\n",
              "        6.61546146e-05, 5.28303872e-07],\n",
              "       [9.99636650e-01, 6.18519516e-06, 1.48467341e-04, 1.97853951e-05,\n",
              "        1.67007689e-04, 2.18116638e-05],\n",
              "       [4.06500039e-05, 1.77522611e-06, 9.99887586e-01, 8.58577914e-06,\n",
              "        5.29677636e-05, 8.39982567e-06],\n",
              "       [9.99997377e-01, 1.69611235e-11, 1.83405184e-13, 2.61498894e-06,\n",
              "        2.59341632e-10, 5.05381154e-12],\n",
              "       [8.65344873e-17, 1.87240976e-18, 3.17381207e-16, 9.80123703e-23,\n",
              "        3.23744931e-22, 1.00000000e+00],\n",
              "       [1.10752499e-02, 2.99290085e-04, 1.32981539e-02, 5.48739079e-03,\n",
              "        9.68941510e-01, 8.98363127e-04],\n",
              "       [3.34647976e-10, 9.99999642e-01, 6.60309007e-09, 2.17804569e-07,\n",
              "        6.93766609e-08, 1.86248170e-11],\n",
              "       [5.00922226e-07, 9.99986649e-01, 9.81260541e-07, 8.15266230e-06,\n",
              "        3.73566627e-06, 9.64506430e-09],\n",
              "       [6.39464939e-04, 8.24830553e-04, 2.25036871e-02, 9.50263321e-01,\n",
              "        2.57448927e-02, 2.38813773e-05],\n",
              "       [2.79948901e-04, 6.21385198e-06, 5.71652272e-05, 1.78850256e-04,\n",
              "        9.99476492e-01, 1.35386688e-06],\n",
              "       [1.12922886e-10, 7.07024794e-09, 2.31273347e-08, 1.00000000e+00,\n",
              "        1.09087694e-09, 3.02011610e-11],\n",
              "       [7.24548269e-11, 6.31316539e-07, 4.31287305e-07, 9.99998927e-01,\n",
              "        3.08151726e-08, 9.09859832e-09],\n",
              "       [4.74388116e-06, 1.57637023e-05, 3.08204608e-06, 8.96597703e-06,\n",
              "        9.99967337e-01, 1.40236040e-07],\n",
              "       [3.57845653e-04, 9.94693339e-01, 4.37536073e-04, 7.97026732e-04,\n",
              "        3.70669551e-03, 7.52678807e-06],\n",
              "       [5.62329078e-03, 9.85997319e-01, 5.33421477e-03, 1.71756430e-03,\n",
              "        1.20569859e-03, 1.21899400e-04],\n",
              "       [9.40996230e-01, 1.42997913e-02, 3.18768658e-02, 8.68443531e-05,\n",
              "        1.26696387e-02, 7.06151404e-05],\n",
              "       [1.47548196e-08, 9.99988794e-01, 5.76755247e-06, 1.67508279e-06,\n",
              "        3.85857857e-06, 1.04659519e-11],\n",
              "       [5.88221312e-01, 3.89303446e-01, 2.11606734e-03, 1.38042495e-02,\n",
              "        6.19073166e-03, 3.64227017e-04],\n",
              "       [5.16999033e-17, 3.07375783e-17, 3.52201276e-16, 1.64262045e-21,\n",
              "        4.36596631e-21, 1.00000000e+00],\n",
              "       [1.06787354e-06, 9.99704897e-01, 4.08190590e-06, 2.68943375e-04,\n",
              "        2.09339760e-05, 2.12039097e-08],\n",
              "       [9.95398819e-01, 1.21497405e-05, 7.26403823e-06, 4.32499032e-03,\n",
              "        1.48969732e-04, 1.07834458e-04],\n",
              "       [1.77165782e-09, 9.99997973e-01, 1.60729368e-08, 1.23810707e-06,\n",
              "        6.97651046e-07, 2.14523577e-09],\n",
              "       [4.37407507e-05, 9.52925384e-01, 4.28898129e-05, 1.04005612e-03,\n",
              "        4.51921783e-02, 7.55704299e-04],\n",
              "       [3.22186243e-05, 4.70923609e-04, 2.23687530e-05, 1.37533050e-06,\n",
              "        1.25814995e-05, 9.99460518e-01],\n",
              "       [9.40124281e-13, 2.51434429e-08, 2.01026147e-08, 1.00000000e+00,\n",
              "        3.19620136e-10, 6.06828476e-11],\n",
              "       [4.94497955e-01, 8.42819810e-02, 4.15714055e-01, 2.95246090e-03,\n",
              "        2.14021537e-03, 4.13365720e-04],\n",
              "       [2.94914306e-03, 7.84814532e-04, 9.96033847e-01, 1.71900378e-04,\n",
              "        2.22046019e-05, 3.81295249e-05],\n",
              "       [5.16328821e-03, 6.36667071e-04, 9.94142830e-01, 2.53256148e-05,\n",
              "        4.03996637e-06, 2.77875442e-05],\n",
              "       [1.39815586e-06, 9.99989271e-01, 3.35393747e-06, 3.89068009e-06,\n",
              "        2.05412130e-06, 3.36237149e-09],\n",
              "       [4.91379127e-13, 9.99999881e-01, 1.94336724e-09, 1.06755671e-07,\n",
              "        9.43573344e-13, 7.53156137e-18],\n",
              "       [7.17865041e-05, 4.67720820e-04, 8.25422443e-03, 9.90728498e-01,\n",
              "        4.42785677e-04, 3.50632399e-05],\n",
              "       [9.99283731e-01, 9.15597229e-06, 1.18237119e-06, 5.92690078e-04,\n",
              "        1.12021873e-04, 1.23506072e-06],\n",
              "       [5.63758835e-02, 5.85326234e-06, 9.43535149e-01, 4.60786509e-07,\n",
              "        7.62721902e-05, 6.42479972e-06],\n",
              "       [6.83007645e-04, 9.98495221e-01, 3.16093880e-04, 4.19873861e-04,\n",
              "        3.61208731e-05, 4.97428991e-05],\n",
              "       [4.48548207e-07, 5.78199360e-05, 1.15735136e-04, 9.99816835e-01,\n",
              "        7.22259620e-06, 1.91793765e-06],\n",
              "       [1.36646719e-04, 9.98997867e-01, 9.29050075e-05, 6.22688676e-04,\n",
              "        1.02104721e-04, 4.77834146e-05],\n",
              "       [1.16484721e-11, 1.00000000e+00, 1.07536289e-12, 5.73996128e-10,\n",
              "        1.27791929e-12, 7.10227301e-15],\n",
              "       [1.81771501e-22, 3.52150077e-17, 2.15181646e-21, 1.91987752e-27,\n",
              "        4.40836773e-24, 1.00000000e+00],\n",
              "       [8.70311982e-04, 9.96308208e-01, 2.95708567e-04, 1.31128379e-03,\n",
              "        1.17495866e-03, 3.95932220e-05],\n",
              "       [9.94137883e-01, 2.83094250e-05, 3.51673504e-03, 3.02282104e-04,\n",
              "        1.85005390e-03, 1.64724377e-04],\n",
              "       [2.63510949e-11, 9.17656798e-05, 4.85573992e-07, 9.99907613e-01,\n",
              "        1.00971853e-07, 1.04975773e-09],\n",
              "       [1.53429003e-09, 1.95423866e-07, 7.67070407e-09, 1.39252506e-06,\n",
              "        9.99998450e-01, 4.29295621e-09],\n",
              "       [7.66914698e-10, 8.63979608e-07, 7.86709677e-07, 9.99998093e-01,\n",
              "        2.29363408e-07, 3.73239679e-08],\n",
              "       [9.99951124e-01, 5.45187220e-07, 4.76379973e-05, 5.57135820e-07,\n",
              "        9.07967106e-08, 8.34509173e-09],\n",
              "       [1.21439530e-06, 9.99644518e-01, 2.98847124e-04, 5.15277497e-05,\n",
              "        3.50441451e-06, 4.15201555e-07],\n",
              "       [8.39117289e-01, 7.10184574e-02, 5.88831790e-05, 8.61189812e-02,\n",
              "        1.12004206e-03, 2.56627984e-03],\n",
              "       [1.93777015e-21, 2.24641033e-23, 7.64606272e-23, 4.05017049e-28,\n",
              "        2.31548080e-25, 1.00000000e+00],\n",
              "       [9.90327179e-01, 7.05807237e-03, 4.85661236e-04, 1.84689197e-04,\n",
              "        1.93901896e-03, 5.40866495e-06],\n",
              "       [7.05932826e-03, 9.20180697e-03, 6.47229552e-01, 3.09289694e-01,\n",
              "        1.41717996e-02, 1.30478116e-02],\n",
              "       [7.32574845e-05, 2.54974328e-02, 1.53849425e-04, 6.65815489e-04,\n",
              "        9.73604083e-01, 5.56312807e-06],\n",
              "       [2.06015375e-03, 1.07536802e-09, 7.62484242e-11, 5.23187182e-08,\n",
              "        9.97939765e-01, 7.60304458e-11],\n",
              "       [6.21915519e-01, 3.66982639e-01, 5.63762197e-03, 4.92567848e-03,\n",
              "        4.86072153e-04, 5.25773066e-05],\n",
              "       [1.87871265e-05, 8.50264405e-05, 1.15015155e-05, 4.14525317e-07,\n",
              "        5.44734394e-06, 9.99878764e-01],\n",
              "       [1.04185247e-05, 3.04337186e-06, 1.17050240e-06, 9.48965044e-06,\n",
              "        9.99975920e-01, 4.12790051e-08]], dtype=float32)"
            ]
          },
          "metadata": {
            "tags": []
          },
          "execution_count": 46
        }
      ]
    },
    {
      "cell_type": "code",
      "metadata": {
        "colab": {
          "base_uri": "https://localhost:8080/",
          "height": 311
        },
        "id": "f9ZKLCQi79qG",
        "outputId": "d0483324-9ae9-478f-a578-9b995bf0630b"
      },
      "source": [
        "from sklearn.metrics import roc_curve, auc\r\n",
        "\r\n",
        "fpr = {}\r\n",
        "tpr = {}\r\n",
        "thresh ={}\r\n",
        "roc_auc={}\r\n",
        "\r\n",
        "n_class = 6\r\n",
        "\r\n",
        "for i in range(n_class):    \r\n",
        "    fpr[i], tpr[i], thresh[i] = roc_curve(y_test, y_prob[:,i], pos_label=i)\r\n",
        "    roc_auc[i] = auc(fpr[i], tpr[i])\r\n",
        "      \r\n",
        "plt.plot(fpr[0], tpr[0], color='orange',label='cercospora-leafspot AUC = %0.3f' % roc_auc[0])\r\n",
        "plt.plot(fpr[1], tpr[1], color='green',label='healthy AUC = %0.3f' % roc_auc[1])\r\n",
        "plt.plot(fpr[2], tpr[2], color='blue',label='helmanthospura-leafspot AUC = %0.3f' % roc_auc[2])\r\n",
        "plt.plot(fpr[3], tpr[3], color='red',label='redrot AUC = %0.3f' % roc_auc[3])\r\n",
        "plt.plot(fpr[4], tpr[4], color='pink',label='rust AUC = %0.3f' % roc_auc[4])\r\n",
        "plt.plot(fpr[5], tpr[5], color='purple',label='yellow-leaf-disease AUC = %0.3f' % roc_auc[5])\r\n",
        "plt.title('sugarcane Leaves Diseases ROC curve')\r\n",
        "plt.xlabel('False Positive Rate')\r\n",
        "plt.ylabel('True Positive rate')\r\n",
        "plt.legend(loc='best')"
      ],
      "execution_count": null,
      "outputs": [
        {
          "output_type": "execute_result",
          "data": {
            "text/plain": [
              "<matplotlib.legend.Legend at 0x7f13c1ce7898>"
            ]
          },
          "metadata": {
            "tags": []
          },
          "execution_count": 47
        },
        {
          "output_type": "display_data",
          "data": {
            "image/png": "[encoded data removed]",
            "text/plain": [
              "<Figure size 432x288 with 1 Axes>"
            ]
          },
          "metadata": {
            "tags": [],
            "needs_background": "light"
          }
        }
      ]
    },
    {
      "cell_type": "code",
      "metadata": {
        "colab": {
          "base_uri": "https://localhost:8080/",
          "height": 265
        },
        "id": "YD3GgBwwB6tX",
        "outputId": "16ef8ed9-5a11-4d33-ad7a-38eba46b7284"
      },
      "source": [
        "from sklearn.metrics import confusion_matrix\r\n",
        "sns.heatmap(confusion_matrix(y_test,y_pred),annot=True)\r\n",
        "cm=confusion_matrix(y_test,y_pred)"
      ],
      "execution_count": null,
      "outputs": [
        {
          "output_type": "display_data",
          "data": {
            "image/png": "[encoded data removed]",
            "text/plain": [
              "<Figure size 432x288 with 2 Axes>"
            ]
          },
          "metadata": {
            "tags": [],
            "needs_background": "light"
          }
        }
      ]
    },
    {
      "cell_type": "code",
      "metadata": {
        "id": "OlA_RSdLemry"
      },
      "source": [
        "from keras.callbacks import ModelCheckpoint"
      ],
      "execution_count": null,
      "outputs": []
    },
    {
      "cell_type": "code",
      "metadata": {
        "id": "frQ53xr0eAZh"
      },
      "source": [
        "\r\n",
        "checkpoint = ModelCheckpoint('sdd_original.h5',  # model filename\r\n",
        "                             monitor='val_loss', # quantity to monitor\r\n",
        "                             verbose=0, # verbosity - 0 or 1\r\n",
        "                             save_best_only= True, # The latest best model will not be overwritten\r\n",
        "                             mode='auto') # The decision to overwrite model is made \r\n",
        "                                          # automatically depending on the quantity to monitor"
      ],
      "execution_count": null,
      "outputs": []
    },
    {
      "cell_type": "code",
      "metadata": {
        "colab": {
          "base_uri": "https://localhost:8080/",
          "height": 191
        },
        "id": "oEbcDoeUevO3",
        "outputId": "edf36782-2402-4d91-bbd2-1f3205a21f0b"
      },
      "source": [
        "sequential.compile(loss='categorical_crossentropy', # Better loss function for neural networks\r\n",
        "              optimizer=Adam(lr=LEARN_RATE), # Adam optimizer with 1.0e-4 learning rate\r\n",
        "              metrics = ['accuracy']) # Metrics to be evaluated by the model"
      ],
      "execution_count": null,
      "outputs": [
        {
          "output_type": "error",
          "ename": "NameError",
          "evalue": "ignored",
          "traceback": [
            "\u001b[0;31m---------------------------------------------------------------------------\u001b[0m",
            "\u001b[0;31mNameError\u001b[0m                                 Traceback (most recent call last)",
            "\u001b[0;32m<ipython-input-6-049be55c4ce5>\u001b[0m in \u001b[0;36m<module>\u001b[0;34m()\u001b[0m\n\u001b[0;32m----> 1\u001b[0;31m sequential.compile(loss='categorical_crossentropy', # Better loss function for neural networks\n\u001b[0m\u001b[1;32m      2\u001b[0m               \u001b[0moptimizer\u001b[0m\u001b[0;34m=\u001b[0m\u001b[0mAdam\u001b[0m\u001b[0;34m(\u001b[0m\u001b[0mlr\u001b[0m\u001b[0;34m=\u001b[0m\u001b[0mLEARN_RATE\u001b[0m\u001b[0;34m)\u001b[0m\u001b[0;34m,\u001b[0m \u001b[0;31m# Adam optimizer with 1.0e-4 learning rate\u001b[0m\u001b[0;34m\u001b[0m\u001b[0;34m\u001b[0m\u001b[0m\n\u001b[1;32m      3\u001b[0m               metrics = ['accuracy']) # Metrics to be evaluated by the model\n",
            "\u001b[0;31mNameError\u001b[0m: name 'sequential' is not defined"
          ]
        }
      ]
    }
  ]
}